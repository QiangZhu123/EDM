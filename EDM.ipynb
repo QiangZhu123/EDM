{
 "cells": [
  {
   "cell_type": "code",
   "execution_count": 1,
   "id": "b81a69d8",
   "metadata": {},
   "outputs": [],
   "source": [
    "from torch import nn\n",
    "import torch\n",
    "import numpy as np\n",
    "from Unet import UNet\n",
    "from abc import abstractmethod"
   ]
  },
  {
   "cell_type": "code",
   "execution_count": 2,
   "id": "aae5b340",
   "metadata": {},
   "outputs": [],
   "source": [
    "class EDM_base(nn.Module):\n",
    "    def __init__(self,param,N=1000):\n",
    "        super().__init__()\n",
    "        self.config =param\n",
    "  \n",
    "        self.N = N\n",
    "        self.t = torch.arange(self.N+1)\n",
    "        \n",
    "    @abstractmethod\n",
    "    def time_step(self):\n",
    "        pass\n",
    "    @abstractmethod\n",
    "    def Schedule(self):\n",
    "        pass\n",
    "    @abstractmethod\n",
    "    def Schedule_prm(self):\n",
    "        pass\n",
    "    @abstractmethod\n",
    "    def Scaling(self):\n",
    "        pass\n",
    "    @abstractmethod\n",
    "    def Scaling_prm(self):\n",
    "        pass\n",
    "    @abstractmethod\n",
    "    def Skip_scaling(self):\n",
    "        pass\n",
    "    @abstractmethod\n",
    "    def Output_scaling(self):\n",
    "        pass\n",
    "    @abstractmethod\n",
    "    def Input_scaling(self):\n",
    "        pass\n",
    "    @abstractmethod\n",
    "    def Noise_cond(self):\n",
    "        pass\n",
    "    @abstractmethod\n",
    "    def Noise_distribution(self):\n",
    "        pass\n",
    "    @abstractmethod\n",
    "    def Loss_weighting(self):\n",
    "        pass\n",
    "    \n",
    "    def D_x_eta(self,x,eta):\n",
    "       \n",
    "        model_output = self.model(self.Input_scaling(eta) * x,self.Noise_cond(eta))\n",
    "        return self.Skip_scaling(eta) * x + self.Output_scaling(eta)* model_output\n",
    "    def Deterministic_sampling(self,bs,size):\n",
    "        z  = torch.rand(bs,3,size,size)\n",
    "        x_0 = self.Schedule(self.time_step(0)) * self.Scaling(self.time_step(0)) * z \n",
    "        for i in range(self.N):\n",
    "            t_i = self.time_step(i)\n",
    "            Scaling =self.Scaling(t_i)\n",
    "            Schedule = self.Schedule(t_i)\n",
    "            Scaling_prm = self.Scaling_prm(t_i)\n",
    "            Schedule_prm = self.Schedule_prm(t_i)\n",
    "            d_i = (Scaling_prm/Scaling + Schedule_prm/Schedule)*x_0\n",
    "            d_i -= Schedule_prm * Scaling/Schedule*self.D_x_eta(x_0/Scaling ,Schedule)\n",
    "            x_0 = x_0 + (self.time_step(i+1)-self.time_step(i))*d_i\n",
    "            if self.Schedule(self.time_step(i+1))!=0:\n",
    "                t_i_post = self.time_step(i+1)\n",
    "                Scaling_post =self.Scaling(t_i_post)\n",
    "                Schedule_post = self.Schedule(t_i_post)\n",
    "                Scaling_prm_post = self.Scaling_prm(t_i_post)\n",
    "                Schedule_prm_post = self.Schedule_prm(t_i_post)\n",
    "                d_i_pm = (Scaling_prm_post/Scaling_post + Schedule_prm_post/Schedule_post )*x_0\n",
    "                d_i_pm -= Schedule_prm_post * Scaling_post/Schedule_post * self.D_x_eta(x_0 / Scaling_post, Schedule_prm_post   )\n",
    "                x_0 =x_0 + (t_i_post-t_i)*(0.5*d_i + 0.5*d_i_pm)\n",
    "        return x_0\n",
    "    def stochastic_sampler(self,bs,size,\n",
    "            S_churn  = 30,\n",
    "            S_tmin = 0.01,\n",
    "            S_tmax = 1,\n",
    "            S_noise = 1.007):\n",
    "        z =torch.rand(bs,3,size,size)\n",
    "        x_0 =z * self.time_step(0)\n",
    "        for i in range(self.N):\n",
    "            t_i =self.time_step(i)\n",
    "            t_i_post = self.time_step(i+1)\n",
    "            gam_i = min( S_churn/self.N,torch.sqrt(torch.tensor(2))-1) if S_tmin<=t_i<=S_tmax else 0 \n",
    "            eps_i = torch.rand(*z.shape) * S_noise**2\n",
    "            t_i_hat = t_i + gam_i*t_i\n",
    "            x_0_hat = x_0 +torch.sqrt(t_i_hat**2 - t_i**2)*eps_i\n",
    "            d_i = (x_0_hat - self.D_x_eta(x_0_hat,t_i_hat))/t_i_hat\n",
    "            x_0 = x_0_hat+ (t_i_post-t_i_hat)*d_i\n",
    "            if self.time_step(i+1)!=0:\n",
    "                d_i_prm = x_0 - self.D_x_eta(x_0,t_i_post)/t_i_post\n",
    "                x_0 = x_0_hat + (t_i_post-t_i_hat)*(0.5*d_i+0.5*d_i_prm)\n",
    "        return x_0"
   ]
  },
  {
   "cell_type": "code",
   "execution_count": 3,
   "id": "bb1e889f",
   "metadata": {},
   "outputs": [],
   "source": [
    "class VP_EDM(EDM_base):\n",
    "    \n",
    "    def __init__(self,\n",
    "                     model,\n",
    "                 N=1000,\n",
    "                 para=dict(beta_d=19.9,\n",
    "                            beta_min =0.1,\n",
    "                            eps_s=10e-3,\n",
    "                            eps_t=10e-5,\n",
    "                            M=1000)):\n",
    "        super().__init__(para)\n",
    "        self.model = model\n",
    "        self.N = N\n",
    "    def time_step(self,i):\n",
    "        return  1+i/(torch.tensor(self.N)-1)*(self.config['eps_s']-1)\n",
    "\n",
    "    def Schedule(self,t):\n",
    "        a = torch.exp(  torch.exp(0.5*self.config['beta_d']*torch.tensor(t)**2) + self.config['beta_min']* t )\n",
    "        return torch.sqrt(a-1)\n",
    "    \n",
    "    def Schedule_prm(self,t):\n",
    "        a =torch.exp(0.5*self.config['beta_d']*torch.tensor(t)**2 + self.config['beta_min']*t) * (self.config['beta_d']*t + self.config['beta_min'])\n",
    "        return a/(2.0*torch.sqrt(torch.exp(0.5*self.config['beta_d']*torch.tensor(t)**2+self.config['beta_min']*t)  - 1 ))\n",
    "    def Scaling(self,t):\n",
    "        a = torch.sqrt( torch.exp(0.5 * self.config['beta_d']*torch.tensor(t)**2) + self.config['beta_min']*t)\n",
    "        return 1.0 /a \n",
    "\n",
    "    def Scaling_prm(self,t):\n",
    "        root = 2*torch.sqrt(torch.exp(0.5*self.config['beta_d']*torch.tensor(t)**2   + self.config['beta_min']*t ))\n",
    "        return -(self.config['beta_d']*t  + self.config['beta_min'])/root\n",
    "    def Skip_scaling(self,eta):\n",
    "        return 1\n",
    "\n",
    "    def Output_scaling(self,eta):\n",
    "        return -eta\n",
    "\n",
    "    def Input_scaling(self,eta):\n",
    "        return  1.0/torch.sqrt(eta**2 + 1)\n",
    "\n",
    "    def Noise_cond(self,eta):\n",
    "        \n",
    "        return (self.config['M'] - 1) * 1.0/self.Noise_distribution(eta).sample()\n",
    "\n",
    "    def Noise_distribution(self,eta):\n",
    "        \n",
    "        return torch.distributions.Uniform(self.config['eps_t'],1)\n",
    "    def Loss_weighting(self,eta):\n",
    "        return 1.0/eta**2\n"
   ]
  },
  {
   "cell_type": "code",
   "execution_count": 4,
   "id": "717a55d5",
   "metadata": {},
   "outputs": [],
   "source": [
    "class VE_EDM(EDM_base):\n",
    "    def __init__(self,model,\n",
    "                 N=1000,param = dict(sigma_min = 0.02,sigma_max =100)):\n",
    "        super().__init__(param)\n",
    "        self.N=N\n",
    "    def time_step(self,i):\n",
    "        return self.config['sigma_max']**2 * (self.config['sigma_min']**2 / self.config['sigma_max']**2 ) ** (i/(self.N-1))\n",
    "    def Schedule(self,t):\n",
    "        return torch.sqrt(t)\n",
    "    def Scaling_prm(self,t):\n",
    "        return 1/(0.5*torch.sqrt(t))\n",
    "    def Scaling(self,t):\n",
    "        return 1\n",
    "    def Scaling_prm(self,t):\n",
    "        return 0\n",
    "    def Skip_scaling(self,eta):\n",
    "        return 1\n",
    "    def Output_scaling(self,eta):\n",
    "        return eta\n",
    "    def Input_scaling(self,eta):\n",
    "        return 1\n",
    "    def Noise_cond(self,eta):\n",
    "        return self.Noise_distribution(0.5*eta).sample()\n",
    "    def Noise_distribution(self,eta):\n",
    "        return torch.distributions.Uniform(torch.log(self.config['sigma_min']),torch.log(self.config['sigma_max']))\n",
    "    def Loss_weighting(self,eta):\n",
    "        return 1/eta**2\n",
    "    "
   ]
  },
  {
   "cell_type": "code",
   "execution_count": null,
   "id": "6d7057de",
   "metadata": {},
   "outputs": [],
   "source": [
    "class EDM(EDM_base):\n",
    "    def __init__(self,model,N=1000,\n",
    "                 param= dict(sigma_min =0.002,sigma_max=80,\n",
    "                            sigma_data=0.5,phi = 7,\n",
    "                            P_mean = -1.2,P_std = 1.2)):\n",
    "        super().__init__(param)\n",
    "        self.model = model\n",
    "        self.N=N\n",
    "    def time_step(self,i):\n",
    "        ro = self.config['phi']\n",
    "        \n",
    "        return (  self.config['sigma_max']**(1/ro)     + i/(self.N-1) *( self.config['sigma_min']**(1.0/ro) - self.config['sigma_max']**(1.0/ ro) )    )**ro\n",
    "    def Schedule(self,t):\n",
    "        return t\n",
    "    def Schedule_prm(self,t):\n",
    "        return 1\n",
    "    def Scaling(self,t):\n",
    "        return 1\n",
    "\n",
    "    def Scaling_prm(self,t):\n",
    "        return 0\n",
    "    def Skip_scaling(self,eta):\n",
    "        return self.config['sigma_data']**2 / (self.config['sigma']**2+ self.config['sigma_data'])\n",
    "    def Output_scaling(self,eta):\n",
    "        return eta * self.config['sigma_data']/torch.sqrt( self.config['sigma_data']+eta )\n",
    "    def Input_scaling(self,eta):\n",
    "        return 1/torch.sqrt(eta**2 + self.config['sigma_data'])\n",
    "    def Noise_cond(self,eta):\n",
    "        return 1/4 * self.Noise_distribution(eta).sample()\n",
    "    def Noise_distribution(self,eta):\n",
    "        return torch.distributions.Normal(mean =self.config['P_mean'],std = self.config['P_std'])\n",
    "    def Loss_weighting(self,eta):\n",
    "        return (  eta **2 + self.config['sigma_data']**2  )/(  eta * self.config['sigma_data'] )**2"
   ]
  },
  {
   "cell_type": "markdown",
   "id": "6ebe4191",
   "metadata": {},
   "source": [
    "# Train"
   ]
  },
  {
   "cell_type": "code",
   "execution_count": null,
   "id": "71b33b44",
   "metadata": {},
   "outputs": [],
   "source": [
    "img_size = 128  # 快速实验，可以改为64\n",
    "batch_size = 32  # 如果显存不够，可以降低为16\n",
    "embedding_size = 128\n",
    "channels = [1, 1, 2, 2, 4, 4]\n",
    "blocks = 2  # 如果显存不够，可以降低为1"
   ]
  },
  {
   "cell_type": "code",
   "execution_count": null,
   "id": "42c6aa9b",
   "metadata": {},
   "outputs": [],
   "source": [
    "pipe = Compose([transforms.Resize([224,224]),\n",
    "               transforms.ToTensor(),\n",
    "               ])"
   ]
  },
  {
   "cell_type": "code",
   "execution_count": null,
   "id": "00c82ca9",
   "metadata": {},
   "outputs": [],
   "source": [
    "optimizer = torch.optim.Adam(model.parameters(),lr=0.001,weight_decay=0.99)\n",
    "learn_scheduler = torch.optim.lr_scheduler.CosineAnnealingLR(optimizer,T_max=10)"
   ]
  },
  {
   "cell_type": "code",
   "execution_count": null,
   "id": "84616065",
   "metadata": {},
   "outputs": [],
   "source": [
    "model = UNet(in_channels=3, out_channels=3)"
   ]
  },
  {
   "cell_type": "code",
   "execution_count": null,
   "id": "19c0fe3e",
   "metadata": {},
   "outputs": [],
   "source": [
    "dataloader = DataLoader(data,\n",
    "                        batch_size=32,a\n",
    "                        shuffle=True,\n",
    "                        pin_memory=True)"
   ]
  },
  {
   "cell_type": "code",
   "execution_count": null,
   "id": "8d252e52",
   "metadata": {},
   "outputs": [],
   "source": [
    "diff_model = VP_EDM(model)\n",
    "diff_model.N=2"
   ]
  },
  {
   "cell_type": "code",
   "execution_count": null,
   "id": "9fa44cfa",
   "metadata": {},
   "outputs": [],
   "source": [
    "epoches = 20\n",
    "for i in range(epoches):\n",
    "    \n",
    "    for data in dataloader :\n",
    "        image,_= data\n",
    "        bs=image.shape[0]\n",
    "        optimizer.zero_grad()\n",
    "        n= torch.randint(0,diff_model.N,(bs,1,1,1))\n",
    "        t = diff_model.time_step(n)\n",
    "        eta = diff_model.Schedule(t)\n",
    "        label = diff_model.D_x_eta(image,eta)\n",
    "        loss = torch.sum(image,label)\n",
    "        \n",
    "        loss.backward()\n",
    "        optimizer.step()\n",
    "        learn_scheduler.step()\n",
    "    "
   ]
  },
  {
   "cell_type": "code",
   "execution_count": null,
   "id": "d22cb44b",
   "metadata": {},
   "outputs": [],
   "source": []
  },
  {
   "cell_type": "code",
   "execution_count": null,
   "id": "f2fcdab9",
   "metadata": {},
   "outputs": [],
   "source": []
  },
  {
   "cell_type": "code",
   "execution_count": 5,
   "id": "e1b9ad5f",
   "metadata": {},
   "outputs": [],
   "source": [
    "class ADM(nn.Module):\n",
    "    parameter={'VP':dict(beta_d=19.9,beta_min =0.1,eps_s=10e-3,eps_t=10e-5,M=1000),\n",
    "               'VE':dict(sigma_min=0.02,sigma_max = 100),\n",
    "               'DDIM':dict(M=1000,j_0=8,C_1=0.001,C_2=0.008),\n",
    "               'EDM':dict(sigma_min = 0.002,sigma_max=80,sigma_data=0.5,\n",
    "                         phi = 7,P_mean = -1.2,P_std=1.2)}\n",
    "    \n",
    "    \n",
    "    compute = {'VP':\n",
    "            'VE':\n",
    "            'DDIM':\n",
    "            'EDM':}\n",
    "    def __init__(self,name,\n",
    "                 N,\n",
    "                score_model,\n",
    "                ):\n",
    "        super().__init__()\n",
    "        self.config = parameter[name]\n",
    "        self.N =N\n",
    "        self.model = score_model\n",
    "        \n",
    "    def time_step(self,i):\n",
    "        assert (i<self.N)\n",
    "        Time_steps ={'VP':1+i/(self.N-1)*(self.config['eps_s']-1),\n",
    "                    'VE':self.config['sigma_max']**2 *(self.config['sigma_min']/self.config['sigma_max'])**(2*i/(self.N-1))\n",
    "                   , 'DDIM':\n",
    "                    ,'EDM':}\n",
    "\n",
    "    \n"
   ]
  },
  {
   "cell_type": "code",
   "execution_count": 6,
   "id": "73737ea2",
   "metadata": {},
   "outputs": [],
   "source": [
    "tet =dict(a=5)"
   ]
  },
  {
   "cell_type": "code",
   "execution_count": 8,
   "id": "8f06226c",
   "metadata": {},
   "outputs": [
    {
     "data": {
      "text/plain": [
       "5"
      ]
     },
     "execution_count": 8,
     "metadata": {},
     "output_type": "execute_result"
    }
   ],
   "source": [
    "tet['a']"
   ]
  },
  {
   "cell_type": "code",
   "execution_count": null,
   "id": "9ff2de76",
   "metadata": {},
   "outputs": [],
   "source": []
  },
  {
   "cell_type": "code",
   "execution_count": null,
   "id": "ee94ad50",
   "metadata": {},
   "outputs": [],
   "source": []
  },
  {
   "cell_type": "code",
   "execution_count": null,
   "id": "001049bd",
   "metadata": {},
   "outputs": [],
   "source": []
  },
  {
   "cell_type": "code",
   "execution_count": null,
   "id": "65be347f",
   "metadata": {},
   "outputs": [],
   "source": []
  },
  {
   "cell_type": "code",
   "execution_count": null,
   "id": "9b855a55",
   "metadata": {},
   "outputs": [],
   "source": []
  },
  {
   "cell_type": "code",
   "execution_count": null,
   "id": "9de5330e",
   "metadata": {},
   "outputs": [],
   "source": []
  },
  {
   "cell_type": "code",
   "execution_count": null,
   "id": "91455b3f",
   "metadata": {},
   "outputs": [],
   "source": []
  },
  {
   "cell_type": "code",
   "execution_count": null,
   "id": "09730be7",
   "metadata": {},
   "outputs": [],
   "source": []
  },
  {
   "cell_type": "code",
   "execution_count": null,
   "id": "40cf9f8f",
   "metadata": {},
   "outputs": [],
   "source": []
  },
  {
   "cell_type": "code",
   "execution_count": null,
   "id": "261abe30",
   "metadata": {},
   "outputs": [],
   "source": []
  }
 ],
 "metadata": {
  "kernelspec": {
   "display_name": "Python 3 (ipykernel)",
   "language": "python",
   "name": "python3"
  },
  "language_info": {
   "codemirror_mode": {
    "name": "ipython",
    "version": 3
   },
   "file_extension": ".py",
   "mimetype": "text/x-python",
   "name": "python",
   "nbconvert_exporter": "python",
   "pygments_lexer": "ipython3",
   "version": "3.10.0"
  }
 },
 "nbformat": 4,
 "nbformat_minor": 5
}
